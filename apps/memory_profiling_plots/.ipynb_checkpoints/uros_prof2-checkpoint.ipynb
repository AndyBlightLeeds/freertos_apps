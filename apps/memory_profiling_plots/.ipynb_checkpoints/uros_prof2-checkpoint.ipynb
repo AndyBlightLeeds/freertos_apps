{
 "cells": [
  {
   "cell_type": "code",
   "execution_count": 1,
   "metadata": {},
   "outputs": [],
   "source": [
    "#import msparser\n",
    "import os\n",
    "import signal\n",
    "import subprocess\n",
    "import sys\n",
    "import time\n",
    "from tabulate import tabulate\n",
    "\n",
    "import numpy as np\n",
    "import matplotlib.pyplot as plt\n",
    "\n",
    "from matplotlib.ticker import EngFormatter\n",
    "\n",
    "names = [\"results-REL-pubs.txt\", \"results-REL-subs.txt\", \"results-BE-pubs.txt\", \"results-BE-subs.txt\"]\n",
    "\n",
    "descriptions = [\"Publishers - Reliable streams\",\n",
    "                \"Subscribers - Reliable streams\",\n",
    "                \"Publishers - BE streams\",\n",
    "                \"Subscribers - BE streams\"]\n",
    "\n",
    "memo_cons = []\n",
    "topic_sizes = []\n",
    "entities_sizes = []"
   ]
  },
  {
   "cell_type": "code",
   "execution_count": 2,
   "metadata": {},
   "outputs": [
    {
     "name": "stdout",
     "output_type": "stream",
     "text": [
      "[[    1     1 42869]\n",
      " [    1   342 42833]\n",
      " [    1   683 42849]\n",
      " [    1  1025 42925]\n",
      " [    1  1366 42833]\n",
      " [    5     1 44621]\n",
      " [    5   342 44633]\n",
      " [    5   683 44629]\n",
      " [    5  1025 44501]\n",
      " [    5  1366 44517]\n",
      " [   10     1 46687]\n",
      " [   10   342 46683]\n",
      " [   10   683 46695]\n",
      " [   10  1025 46679]\n",
      " [   10  1366 46703]\n",
      " [   15     1 48797]\n",
      " [   15   342 48721]\n",
      " [   15   683 48769]\n",
      " [   15  1025 48773]\n",
      " [   15  1366 48765]]\n"
     ]
    }
   ],
   "source": [
    "with open(names[0]) as p:\n",
    "    file = p.read()\n",
    "file = \" \".join(file.split(\"\\n\")[1:])\n",
    "data = [int(x) for x in file.split(\" \") if len(x)]\n",
    "data = np.reshape(data, (20, 3))\n",
    "print(data)"
   ]
  },
  {
   "cell_type": "code",
   "execution_count": 3,
   "metadata": {},
   "outputs": [
    {
     "name": "stdout",
     "output_type": "stream",
     "text": [
      "[1, 5, 10, 15]\n",
      "[42869, 42833, 42849, 42925, 42833, 44621, 44633, 44629, 44501, 44517, 46687, 46683, 46695, 46679, 46703, 48797, 48721, 48769, 48773, 48765]\n"
     ]
    }
   ],
   "source": [
    "es = list(dict.fromkeys([x[0] for x in data]))\n",
    "ts = list(dict.fromkeys([x[1] for x in data]))\n",
    "\n",
    "print(es)\n",
    "mem = []\n",
    "\n",
    "for entities_size in es:\n",
    "    print(entities_size)\n",
    "    for topic_size in ts:\n",
    "        print(topic_size)\n",
    "        line = [x for x in data if x[0] == entities_size and x[1] == topic_size][0]\n",
    "        mem.append(line[2])\n",
    "print(mem)"
   ]
  },
  {
   "cell_type": "code",
   "execution_count": 63,
   "metadata": {},
   "outputs": [],
   "source": [
    "for i in range(len(names)):\n",
    "    with open(names[i],'r') as p:\n",
    "        file = p.read()\n",
    "        \n",
    "    file = \" \".join(file.split(\"\\n\")[1:])\n",
    "    data = [int(x) for x in file.split(\" \") if len(x)]\n",
    "    data = np.reshape(data, (20, 3))\n",
    "\n",
    "    ts = list(dict.fromkeys([x[1] for x in data]))\n",
    "    es = list(dict.fromkeys([x[0] for x in data]))\n",
    "    \n",
    "    topic_sizes.append(ts)\n",
    "    entities_sizes.append(es)\n",
    "    mem = []\n",
    "    \n",
    "    for entities_size in entities_sizes[i]:\n",
    "        for topic_size in topic_sizes[i]:\n",
    "            line = [x for x in data if x[0] == entities_size and x[1] == topic_size][0]\n",
    "            mem.append(line[2])\n",
    "    \n",
    "    mem1 = np.reshape(mem, (len(topic_sizes[i]), len(entities_sizes[i])))\n",
    "    mem2 = np.reshape(mem, (len(entities_sizes[i]), len(topic_sizes[i])))\n",
    "    memo_cons.append(mem2)"
   ]
  },
  {
   "cell_type": "code",
   "execution_count": 65,
   "metadata": {},
   "outputs": [
    {
     "name": "stdout",
     "output_type": "stream",
     "text": [
      "[[1, 342, 683, 1025, 1366], [1, 342, 683, 1025, 1366], [1, 123, 246, 368, 490], [1, 123, 246, 368, 490], [1, 342, 683, 1025, 1366], [1, 342, 683, 1025, 1366], [1, 123, 246, 368, 490], [1, 123, 246, 368, 490]]\n",
      "[[1, 5, 10, 15], [1, 5, 10, 15], [1, 5, 10, 15], [1, 5, 10, 15], [1, 5, 10, 15], [1, 5, 10, 15], [1, 5, 10, 15], [1, 5, 10, 15]]\n",
      "[array([[42869, 42833, 42849, 42925],\n",
      "       [42833, 44621, 44633, 44629],\n",
      "       [44501, 44517, 46687, 46683],\n",
      "       [46695, 46679, 46703, 48797],\n",
      "       [48721, 48769, 48773, 48765]]), array([[ 50843,  50767,  50807,  50807],\n",
      "       [ 51031,  85502,  85511,  85535],\n",
      "       [ 85739,  85523, 128941, 128929],\n",
      "       [129129, 129141, 129121, 172555],\n",
      "       [172403, 172527, 172519, 172539]]), array([[42717, 42681, 42681, 42681],\n",
      "       [42681, 44369, 44333, 44329],\n",
      "       [44333, 44321, 46427, 46395],\n",
      "       [46403, 46399, 46411, 48501],\n",
      "       [48469, 48417, 48453, 48465]]), array([[ 50851,  50775,  50775,  51031],\n",
      "       [ 50775,  85203,  85175,  85175],\n",
      "       [ 85175,  85171, 128613, 128561],\n",
      "       [128577, 128569, 128769, 171991],\n",
      "       [171955, 172135, 171939, 171963]]), array([[42869, 42833, 42849, 42925, 42833],\n",
      "       [44621, 44633, 44629, 44501, 44517],\n",
      "       [46687, 46683, 46695, 46679, 46703],\n",
      "       [48797, 48721, 48769, 48773, 48765]]), array([[ 50843,  50767,  50807,  50807,  51031],\n",
      "       [ 85502,  85511,  85535,  85739,  85523],\n",
      "       [128941, 128929, 129129, 129141, 129121],\n",
      "       [172555, 172403, 172527, 172519, 172539]]), array([[42717, 42681, 42681, 42681, 42681],\n",
      "       [44369, 44333, 44329, 44333, 44321],\n",
      "       [46427, 46395, 46403, 46399, 46411],\n",
      "       [48501, 48469, 48417, 48453, 48465]]), array([[ 50851,  50775,  50775,  51031,  50775],\n",
      "       [ 85203,  85175,  85175,  85175,  85171],\n",
      "       [128613, 128561, 128577, 128569, 128769],\n",
      "       [171991, 171955, 172135, 171939, 171963]])]\n"
     ]
    }
   ],
   "source": [
    "print(topic_sizes)\n",
    "print(entities_sizes)\n",
    "print(memo_cons)"
   ]
  },
  {
   "cell_type": "code",
   "execution_count": 67,
   "metadata": {},
   "outputs": [
    {
     "data": {
      "image/png": "[encoded data removed]",
      "text/plain": [
       "<matplotlib.figure.Figure at 0x7efc873b2cc0>"
      ]
     },
     "metadata": {
      "needs_background": "light"
     },
     "output_type": "display_data"
    }
   ],
   "source": [
    "fig, axs = plt.subplots(2, 2, sharex='col', sharey='row')\n",
    "axs = axs.flatten()\n",
    "\n",
    "formatter1 = EngFormatter(places=1, sep=\"\\N{THIN SPACE}\")\n",
    "\n",
    "for i in range(len(names)):\n",
    "    for j,n in zip(memo_cons[i], topic_sizes[i]):\n",
    "        axs[i].plot(entities_sizes[i], j, 'o-', markersize=1.5, linewidth=1, label=\"{:d} B\".format(n))\n",
    "        axs[i].legend(frameon=False, fontsize='small')\n",
    "        axs[i].set_ylim([42717,172539])\n",
    "        #axs[i].set_xlim([0,3000])\n",
    "        axs[i].set_title(descriptions[i], fontsize=10)\n",
    "        axs[i].grid(b=True, which='major', linestyle='--', color='grey', linewidth=0.3)\n",
    "        axs[i].grid(b=True, which='minor', linestyle='--', color='grey', linewidth=0.3)\n",
    "        axs[i].xaxis.set_major_formatter(formatter1)\n",
    "        axs[i].yaxis.set_major_formatter(formatter1)\n",
    "        axs[i].tick_params(axis='both', which='major', labelsize=7)"
   ]
  },
  {
   "cell_type": "code",
   "execution_count": null,
   "metadata": {},
   "outputs": [],
   "source": []
  }
 ],
 "metadata": {
  "kernelspec": {
   "display_name": "Python 3",
   "language": "python",
   "name": "python3"
  },
  "language_info": {
   "codemirror_mode": {
    "name": "ipython",
    "version": 3
   },
   "file_extension": ".py",
   "mimetype": "text/x-python",
   "name": "python",
   "nbconvert_exporter": "python",
   "pygments_lexer": "ipython3",
   "version": "3.6.9"
  }
 },
 "nbformat": 4,
 "nbformat_minor": 4
}
