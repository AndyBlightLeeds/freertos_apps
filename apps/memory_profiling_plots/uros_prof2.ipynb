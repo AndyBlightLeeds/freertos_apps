{
 "cells": [
  {
   "cell_type": "code",
   "execution_count": 1,
   "metadata": {},
   "outputs": [],
   "source": [
    "#import msparser\n",
    "import os\n",
    "import signal\n",
    "import subprocess\n",
    "import sys\n",
    "import time\n",
    "from tabulate import tabulate\n",
    "\n",
    "import numpy as np\n",
    "import matplotlib.pyplot as plt\n",
    "\n",
    "from matplotlib.ticker import EngFormatter\n",
    "\n",
    "names = [\"results-REL-pubs.txt\", \"results-REL-subs.txt\", \"results-BE-pubs.txt\", \"results-BE-subs.txt\"]\n",
    "\n",
    "descriptions = [\"Publishers - Reliable streams\",\n",
    "                \"Subscribers - Reliable streams\",\n",
    "                \"Publishers - BE streams\",\n",
    "                \"Subscribers - BE streams\"]\n",
    "\n",
    "memo_cons = []\n",
    "topic_sizes = []\n",
    "entities_sizes = []"
   ]
  },
  {
   "cell_type": "code",
   "execution_count": 2,
   "metadata": {},
   "outputs": [
    {
     "name": "stdout",
     "output_type": "stream",
     "text": [
      "[[    1     1 42869]\n",
      " [    1   342 42833]\n",
      " [    1   683 42849]\n",
      " [    1  1025 42925]\n",
      " [    1  1366 42833]\n",
      " [    5     1 44621]\n",
      " [    5   342 44633]\n",
      " [    5   683 44629]\n",
      " [    5  1025 44501]\n",
      " [    5  1366 44517]\n",
      " [   10     1 46687]\n",
      " [   10   342 46683]\n",
      " [   10   683 46695]\n",
      " [   10  1025 46679]\n",
      " [   10  1366 46703]\n",
      " [   15     1 48797]\n",
      " [   15   342 48721]\n",
      " [   15   683 48769]\n",
      " [   15  1025 48773]\n",
      " [   15  1366 48765]]\n"
     ]
    }
   ],
   "source": [
    "with open(names[0]) as p:\n",
    "    file = p.read()\n",
    "file = \" \".join(file.split(\"\\n\")[1:])\n",
    "data = [int(x) for x in file.split(\" \") if len(x)]\n",
    "data = np.reshape(data, (20, 3))\n",
    "print(data)"
   ]
  },
  {
   "cell_type": "code",
   "execution_count": 7,
   "metadata": {},
   "outputs": [
    {
     "name": "stdout",
     "output_type": "stream",
     "text": [
      "[1, 5, 10, 15]\n",
      "1\n",
      "1\n",
      "5\n",
      "10\n",
      "15\n",
      "342\n",
      "1\n",
      "5\n",
      "10\n",
      "15\n",
      "683\n",
      "1\n",
      "5\n",
      "10\n",
      "15\n",
      "1025\n",
      "1\n",
      "5\n",
      "10\n",
      "15\n",
      "1366\n",
      "1\n",
      "5\n",
      "10\n",
      "15\n",
      "[42869, 44621, 46687, 48797, 42833, 44633, 46683, 48721, 42849, 44629, 46695, 48769, 42925, 44501, 46679, 48773, 42833, 44517, 46703, 48765]\n"
     ]
    }
   ],
   "source": [
    "es = list(dict.fromkeys([x[0] for x in data]))\n",
    "ts = list(dict.fromkeys([x[1] for x in data]))\n",
    "\n",
    "print(es)\n",
    "mem = []\n",
    "\n",
    "for topic_size in ts:\n",
    "    print(topic_size)\n",
    "    for entities_size in es:\n",
    "        print(entities_size)\n",
    "        line = [x for x in data if x[0] == entities_size and x[1] == topic_size][0]\n",
    "        mem.append(line[2])\n",
    "print(mem)"
   ]
  },
  {
   "cell_type": "code",
   "execution_count": 12,
   "metadata": {},
   "outputs": [],
   "source": [
    "for i in range(len(names)):\n",
    "    with open(names[i],'r') as p:\n",
    "        file = p.read()\n",
    "        \n",
    "    file = \" \".join(file.split(\"\\n\")[1:])\n",
    "    data = [int(x) for x in file.split(\" \") if len(x)]\n",
    "    data = np.reshape(data, (20, 3))\n",
    "\n",
    "    ts = list(dict.fromkeys([x[1] for x in data]))\n",
    "    es = list(dict.fromkeys([x[0] for x in data]))\n",
    "    \n",
    "    topic_sizes.append(ts)\n",
    "    entities_sizes.append(es)\n",
    "    mem = []\n",
    "    \n",
    "    for topic_size in ts:\n",
    "        for entities_size in es:\n",
    "            line = [x for x in data if x[0] == entities_size and x[1] == topic_size][0]\n",
    "            mem.append(line[2])\n",
    "    \n",
    "    mem = np.reshape(mem, (len(topic_sizes[i]), len(entities_sizes[i])))\n",
    "    memo_cons.append(mem)"
   ]
  },
  {
   "cell_type": "code",
   "execution_count": 11,
   "metadata": {},
   "outputs": [
    {
     "name": "stdout",
     "output_type": "stream",
     "text": [
      "[[1, 342, 683, 1025, 1366], [1, 342, 683, 1025, 1366], [1, 123, 246, 368, 490], [1, 123, 246, 368, 490], [1, 342, 683, 1025, 1366], [1, 342, 683, 1025, 1366], [1, 123, 246, 368, 490], [1, 123, 246, 368, 490]]\n",
      "[[1, 5, 10, 15], [1, 5, 10, 15], [1, 5, 10, 15], [1, 5, 10, 15], [1, 5, 10, 15], [1, 5, 10, 15], [1, 5, 10, 15], [1, 5, 10, 15]]\n",
      "[array([[42869, 44621, 46687, 48797],\n",
      "       [42833, 44633, 46683, 48721],\n",
      "       [42849, 44629, 46695, 48769],\n",
      "       [42925, 44501, 46679, 48773],\n",
      "       [42833, 44517, 46703, 48765]]), array([[ 50843,  85502, 128941, 172555],\n",
      "       [ 50767,  85511, 128929, 172403],\n",
      "       [ 50807,  85535, 129129, 172527],\n",
      "       [ 50807,  85739, 129141, 172519],\n",
      "       [ 51031,  85523, 129121, 172539]]), array([[42717, 44369, 46427, 48501],\n",
      "       [42681, 44333, 46395, 48469],\n",
      "       [42681, 44329, 46403, 48417],\n",
      "       [42681, 44333, 46399, 48453],\n",
      "       [42681, 44321, 46411, 48465]]), array([[ 50851,  85203, 128613, 171991],\n",
      "       [ 50775,  85175, 128561, 171955],\n",
      "       [ 50775,  85175, 128577, 172135],\n",
      "       [ 51031,  85175, 128569, 171939],\n",
      "       [ 50775,  85171, 128769, 171963]]), array([[42869, 44621, 46687, 48797],\n",
      "       [42833, 44633, 46683, 48721],\n",
      "       [42849, 44629, 46695, 48769],\n",
      "       [42925, 44501, 46679, 48773],\n",
      "       [42833, 44517, 46703, 48765]]), array([[ 50843,  85502, 128941, 172555],\n",
      "       [ 50767,  85511, 128929, 172403],\n",
      "       [ 50807,  85535, 129129, 172527],\n",
      "       [ 50807,  85739, 129141, 172519],\n",
      "       [ 51031,  85523, 129121, 172539]]), array([[42717, 44369, 46427, 48501],\n",
      "       [42681, 44333, 46395, 48469],\n",
      "       [42681, 44329, 46403, 48417],\n",
      "       [42681, 44333, 46399, 48453],\n",
      "       [42681, 44321, 46411, 48465]]), array([[ 50851,  85203, 128613, 171991],\n",
      "       [ 50775,  85175, 128561, 171955],\n",
      "       [ 50775,  85175, 128577, 172135],\n",
      "       [ 51031,  85175, 128569, 171939],\n",
      "       [ 50775,  85171, 128769, 171963]])]\n"
     ]
    }
   ],
   "source": [
    "print(topic_sizes)\n",
    "print(entities_sizes)\n",
    "print(memo_cons)"
   ]
  },
  {
   "cell_type": "code",
   "execution_count": 13,
   "metadata": {},
   "outputs": [
    {
     "data": {
      "image/png": "[encoded data removed]",
      "text/plain": [
       "<matplotlib.figure.Figure at 0x7f26a02dc438>"
      ]
     },
     "metadata": {
      "needs_background": "light"
     },
     "output_type": "display_data"
    }
   ],
   "source": [
    "fig, axs = plt.subplots(2, 2, sharex='col', sharey='row')\n",
    "axs = axs.flatten()\n",
    "\n",
    "formatter1 = EngFormatter(places=1, sep=\"\\N{THIN SPACE}\")\n",
    "\n",
    "for i in range(len(names)):\n",
    "    for j,n in zip(memo_cons[i], topic_sizes[i]):\n",
    "        axs[i].plot(entities_sizes[i], j, 'o-', markersize=1.5, linewidth=1, label=\"{:d} B\".format(n))\n",
    "        axs[i].legend(frameon=False, fontsize='small')\n",
    "        axs[i].set_ylim([42717,172539])\n",
    "        #axs[i].set_xlim([0,3000])\n",
    "        axs[i].set_title(descriptions[i], fontsize=10)\n",
    "        axs[i].grid(b=True, which='major', linestyle='--', color='grey', linewidth=0.3)\n",
    "        axs[i].grid(b=True, which='minor', linestyle='--', color='grey', linewidth=0.3)\n",
    "        axs[i].xaxis.set_major_formatter(formatter1)\n",
    "        axs[i].yaxis.set_major_formatter(formatter1)\n",
    "        axs[i].tick_params(axis='both', which='major', labelsize=7)"
   ]
  },
  {
   "cell_type": "code",
   "execution_count": null,
   "metadata": {},
   "outputs": [],
   "source": []
  }
 ],
 "metadata": {
  "kernelspec": {
   "display_name": "Python 3",
   "language": "python",
   "name": "python3"
  },
  "language_info": {
   "codemirror_mode": {
    "name": "ipython",
    "version": 3
   },
   "file_extension": ".py",
   "mimetype": "text/x-python",
   "name": "python",
   "nbconvert_exporter": "python",
   "pygments_lexer": "ipython3",
   "version": "3.6.9"
  }
 },
 "nbformat": 4,
 "nbformat_minor": 4
}
