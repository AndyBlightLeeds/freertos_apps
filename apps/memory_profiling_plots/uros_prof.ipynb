{
 "cells": [
  {
   "cell_type": "code",
   "execution_count": 55,
   "metadata": {},
   "outputs": [],
   "source": [
    "#import msparser\n",
    "import os\n",
    "import signal\n",
    "import subprocess\n",
    "import sys\n",
    "import time\n",
    "from tabulate import tabulate\n",
    "\n",
    "import numpy as np\n",
    "import matplotlib.pyplot as plt\n",
    "\n",
    "from matplotlib.ticker import EngFormatter\n",
    "\n",
    "names = [\"results-REL-pubs.txt\", \"results-REL-subs.txt\", \"results-BE-pubs.txt\", \"results-BE-subs.txt\"]\n",
    "\n",
    "descriptions = [\"Publishers - Reliable streams\",\n",
    "                \"Subscribers - Reliable streams\",\n",
    "                \"Publishers - BE streams\",\n",
    "                \"Subscribers - BE streams\"]\n",
    "\n",
    "total_usages_steady = []\n",
    "topic_sizes = []\n",
    "entities_sizes = []"
   ]
  },
  {
   "cell_type": "code",
   "execution_count": 56,
   "metadata": {},
   "outputs": [],
   "source": [
    "for i in range(len(names)):\n",
    "    with open(names[i],'r') as p:\n",
    "        file = p.read()\n",
    "    file = \" \".join(file.split(\"\\n\")[1:])\n",
    "    data = [int(x) for x in file.split(\" \") if len(x)]\n",
    "    data = np.reshape(data, (20, 3))\n",
    "    \n",
    "    ts = list(dict.fromkeys([x[1] for x in data]))\n",
    "    es = list(dict.fromkeys([x[0] for x in data]))\n",
    "    \n",
    "    topic_sizes.append(ts)\n",
    "    entities_sizes.append(es)\n",
    "    \n",
    "    usages_steady = []\n",
    "\n",
    "    for entities_size in entities_sizes[i]:\n",
    "        for topic_size in topic_sizes[i]:\n",
    "            line = [x for x in data if x[0] == entities_size and x[1] == topic_size][0]\n",
    "\n",
    "            min_buff = 400 if \"XML\" in names[i] else 150\n",
    "            topic_size_adjs = min_buff if topic_size + 32 < min_buff else topic_size + 32\n",
    "\n",
    "            usages_steady.append(line[2])  #Removing topic size buffer since topic data memory can be shared with data source\n",
    "            \n",
    "    usages_steady = np.reshape(usages_steady, (len(entities_sizes[i]), len(topic_sizes[i])))\n",
    "    total_usages_steady.append(usages_steady)"
   ]
  },
  {
   "cell_type": "code",
   "execution_count": 57,
   "metadata": {},
   "outputs": [
    {
     "name": "stdout",
     "output_type": "stream",
     "text": [
      "[[1, 342, 683, 1025, 1366], [1, 342, 683, 1025, 1366], [1, 123, 246, 368, 490], [1, 123, 246, 368, 490]]\n",
      "[[1, 5, 10, 15], [1, 5, 10, 15], [1, 5, 10, 15], [1, 5, 10, 15]]\n",
      "[array([[42869, 42833, 42849, 42925, 42833],\n",
      "       [44621, 44633, 44629, 44501, 44517],\n",
      "       [46687, 46683, 46695, 46679, 46703],\n",
      "       [48797, 48721, 48769, 48773, 48765]]), array([[ 50843,  50767,  50807,  50807,  51031],\n",
      "       [ 85502,  85511,  85535,  85739,  85523],\n",
      "       [128941, 128929, 129129, 129141, 129121],\n",
      "       [172555, 172403, 172527, 172519, 172539]]), array([[42717, 42681, 42681, 42681, 42681],\n",
      "       [44369, 44333, 44329, 44333, 44321],\n",
      "       [46427, 46395, 46403, 46399, 46411],\n",
      "       [48501, 48469, 48417, 48453, 48465]]), array([[ 50851,  50775,  50775,  51031,  50775],\n",
      "       [ 85203,  85175,  85175,  85175,  85171],\n",
      "       [128613, 128561, 128577, 128569, 128769],\n",
      "       [171991, 171955, 172135, 171939, 171963]])]\n"
     ]
    }
   ],
   "source": [
    "print(topic_sizes)\n",
    "print(entities_sizes)\n",
    "print(total_usages_steady)"
   ]
  },
  {
   "cell_type": "code",
   "execution_count": 43,
   "metadata": {},
   "outputs": [
    {
     "data": {
      "image/png": "[encoded data removed]",
      "text/plain": [
       "<matplotlib.figure.Figure at 0x7ff066321208>"
      ]
     },
     "metadata": {
      "needs_background": "light"
     },
     "output_type": "display_data"
    }
   ],
   "source": [
    "fig, axs = plt.subplots(2, 2, sharex='col', sharey='row')\n",
    "axs = axs.flatten()\n",
    "\n",
    "formatter1 = EngFormatter(places=1, sep=\"\\N{THIN SPACE}\")"
   ]
  },
  {
   "cell_type": "code",
   "execution_count": null,
   "metadata": {},
   "outputs": [],
   "source": [
    "for i in range(len(names)):\n",
    "    for j,n in zip(total_usages_steady[i], topic_sizes):\n",
    "        axs[i].plot(entities_sizes, j, 'o-', markersize=1.5, linewidth=1, label=\"{:d} B\".format(n))"
   ]
  }
 ],
 "metadata": {
  "kernelspec": {
   "display_name": "Python 3",
   "language": "python",
   "name": "python3"
  },
  "language_info": {
   "codemirror_mode": {
    "name": "ipython",
    "version": 3
   },
   "file_extension": ".py",
   "mimetype": "text/x-python",
   "name": "python",
   "nbconvert_exporter": "python",
   "pygments_lexer": "ipython3",
   "version": "3.6.9"
  }
 },
 "nbformat": 4,
 "nbformat_minor": 4
}
